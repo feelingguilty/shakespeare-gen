{
 "cells": [
  {
   "cell_type": "code",
   "execution_count": 1,
   "metadata": {
    "execution": {
     "iopub.execute_input": "2024-10-28T23:10:14.796354Z",
     "iopub.status.busy": "2024-10-28T23:10:14.795364Z",
     "iopub.status.idle": "2024-10-28T23:10:26.445247Z",
     "shell.execute_reply": "2024-10-28T23:10:26.444443Z",
     "shell.execute_reply.started": "2024-10-28T23:10:14.796300Z"
    }
   },
   "outputs": [],
   "source": [
    "import random\n",
    "import numpy as np\n",
    "import tensorflow as tf\n",
    "from tensorflow.keras.models import Sequential\n",
    "from tensorflow.keras.layers import LSTM, Dense, Activation, Dropout, Bidirectional\n",
    "from tensorflow.keras.optimizers import RMSprop\n",
    "from tensorflow.keras.callbacks import ReduceLROnPlateau\n"
   ]
  },
  {
   "cell_type": "code",
   "execution_count": 2,
   "metadata": {
    "execution": {
     "iopub.execute_input": "2024-10-28T23:10:26.448106Z",
     "iopub.status.busy": "2024-10-28T23:10:26.447074Z",
     "iopub.status.idle": "2024-10-28T23:10:26.574708Z",
     "shell.execute_reply": "2024-10-28T23:10:26.573917Z",
     "shell.execute_reply.started": "2024-10-28T23:10:26.448056Z"
    }
   },
   "outputs": [
    {
     "name": "stdout",
     "output_type": "stream",
     "text": [
      "Downloading data from https://storage.googleapis.com/download.tensorflow.org/data/shakespeare.txt\n",
      "\u001b[1m1115394/1115394\u001b[0m \u001b[32m━━━━━━━━━━━━━━━━━━━━\u001b[0m\u001b[37m\u001b[0m \u001b[1m0s\u001b[0m 0us/step\n"
     ]
    }
   ],
   "source": [
    "filepath = tf.keras.utils.get_file('shakespeare.txt','https://storage.googleapis.com/download.tensorflow.org/data/shakespeare.txt')"
   ]
  },
  {
   "cell_type": "code",
   "execution_count": 3,
   "metadata": {
    "execution": {
     "iopub.execute_input": "2024-10-28T23:10:26.576654Z",
     "iopub.status.busy": "2024-10-28T23:10:26.576377Z",
     "iopub.status.idle": "2024-10-28T23:10:26.583367Z",
     "shell.execute_reply": "2024-10-28T23:10:26.582420Z",
     "shell.execute_reply.started": "2024-10-28T23:10:26.576623Z"
    }
   },
   "outputs": [],
   "source": [
    "text = open(filepath,'rb').read().decode(encoding='utf-8').lower()"
   ]
  },
  {
   "cell_type": "code",
   "execution_count": 12,
   "metadata": {
    "execution": {
     "iopub.execute_input": "2024-10-29T00:23:40.039457Z",
     "iopub.status.busy": "2024-10-29T00:23:40.038643Z",
     "iopub.status.idle": "2024-10-29T00:23:40.045102Z",
     "shell.execute_reply": "2024-10-29T00:23:40.044198Z",
     "shell.execute_reply.started": "2024-10-29T00:23:40.039418Z"
    }
   },
   "outputs": [
    {
     "data": {
      "text/plain": [
       "'first citizen:\\nbefore we proceed any further, hear me speak.\\n\\nall:\\nspeak, speak.\\n\\nfirst citizen:\\nyou'"
      ]
     },
     "execution_count": 12,
     "metadata": {},
     "output_type": "execute_result"
    }
   ],
   "source": [
    "text[0:100]\n"
   ]
  },
  {
   "cell_type": "code",
   "execution_count": 5,
   "metadata": {
    "execution": {
     "iopub.execute_input": "2024-10-28T23:10:26.594909Z",
     "iopub.status.busy": "2024-10-28T23:10:26.594600Z",
     "iopub.status.idle": "2024-10-28T23:10:26.616988Z",
     "shell.execute_reply": "2024-10-28T23:10:26.616030Z",
     "shell.execute_reply.started": "2024-10-28T23:10:26.594846Z"
    }
   },
   "outputs": [],
   "source": [
    "characters = sorted(set(text))\n",
    "\n",
    "char_to_index = dict((c, i) for i, c in enumerate(characters))\n",
    "index_to_char = dict((i, c) for i, c in enumerate(characters))"
   ]
  },
  {
   "cell_type": "code",
   "execution_count": 11,
   "metadata": {
    "execution": {
     "iopub.execute_input": "2024-10-29T00:23:35.048121Z",
     "iopub.status.busy": "2024-10-29T00:23:35.047378Z",
     "iopub.status.idle": "2024-10-29T00:23:35.051826Z",
     "shell.execute_reply": "2024-10-29T00:23:35.050922Z",
     "shell.execute_reply.started": "2024-10-29T00:23:35.048077Z"
    }
   },
   "outputs": [],
   "source": [
    "# characters\n",
    "# char_to_index"
   ]
  },
  {
   "cell_type": "code",
   "execution_count": 7,
   "metadata": {
    "execution": {
     "iopub.execute_input": "2024-10-28T23:10:26.628202Z",
     "iopub.status.busy": "2024-10-28T23:10:26.627883Z",
     "iopub.status.idle": "2024-10-28T23:10:26.883723Z",
     "shell.execute_reply": "2024-10-28T23:10:26.882809Z",
     "shell.execute_reply.started": "2024-10-28T23:10:26.628170Z"
    }
   },
   "outputs": [],
   "source": [
    "sequence_length = 40\n",
    "step = 3\n",
    "\n",
    "sentence = []\n",
    "next_character = []\n",
    "\n",
    "for i in range(0,len(text)-sequence_length,step):\n",
    "    sentence.append(text[i:i+sequence_length])\n",
    "    next_character.append(text[i+sequence_length])"
   ]
  },
  {
   "cell_type": "code",
   "execution_count": 8,
   "metadata": {
    "execution": {
     "iopub.execute_input": "2024-10-28T23:10:26.885347Z",
     "iopub.status.busy": "2024-10-28T23:10:26.884966Z",
     "iopub.status.idle": "2024-10-28T23:10:34.801355Z",
     "shell.execute_reply": "2024-10-28T23:10:34.800526Z",
     "shell.execute_reply.started": "2024-10-28T23:10:26.885303Z"
    }
   },
   "outputs": [],
   "source": [
    "x = np.zeros((len(sentence), sequence_length,len(characters)), dtype=bool)\n",
    "y = np.zeros((len(sentence),len(characters)), dtype=bool)\n",
    "\n",
    "for i, satz in enumerate(sentence):\n",
    "    for t, char in enumerate(satz):\n",
    "        x[i, t, char_to_index[char]] = 1\n",
    "    y[i, char_to_index[next_character[i]]] = 1"
   ]
  },
  {
   "cell_type": "code",
   "execution_count": 9,
   "metadata": {
    "execution": {
     "iopub.execute_input": "2024-10-28T23:10:47.028967Z",
     "iopub.status.busy": "2024-10-28T23:10:47.028606Z",
     "iopub.status.idle": "2024-10-29T00:20:52.058095Z",
     "shell.execute_reply": "2024-10-29T00:20:52.057292Z",
     "shell.execute_reply.started": "2024-10-28T23:10:47.028933Z"
    }
   },
   "outputs": [
    {
     "name": "stderr",
     "output_type": "stream",
     "text": [
      "/opt/conda/lib/python3.10/site-packages/keras/src/layers/rnn/bidirectional.py:107: UserWarning: Do not pass an `input_shape`/`input_dim` argument to a layer. When using Sequential models, prefer using an `Input(shape)` object as the first layer in the model instead.\n",
      "  super().__init__(**kwargs)\n"
     ]
    },
    {
     "name": "stdout",
     "output_type": "stream",
     "text": [
      "Epoch 1/50\n",
      "\u001b[1m1453/1453\u001b[0m \u001b[32m━━━━━━━━━━━━━━━━━━━━\u001b[0m\u001b[37m\u001b[0m \u001b[1m83s\u001b[0m 54ms/step - loss: 2.8205 - learning_rate: 0.0100\n",
      "Epoch 2/50\n",
      "\u001b[1m1453/1453\u001b[0m \u001b[32m━━━━━━━━━━━━━━━━━━━━\u001b[0m\u001b[37m\u001b[0m \u001b[1m84s\u001b[0m 58ms/step - loss: 1.8860 - learning_rate: 0.0100\n",
      "Epoch 3/50\n",
      "\u001b[1m1453/1453\u001b[0m \u001b[32m━━━━━━━━━━━━━━━━━━━━\u001b[0m\u001b[37m\u001b[0m \u001b[1m84s\u001b[0m 58ms/step - loss: 1.6477 - learning_rate: 0.0100\n",
      "Epoch 4/50\n",
      "\u001b[1m1453/1453\u001b[0m \u001b[32m━━━━━━━━━━━━━━━━━━━━\u001b[0m\u001b[37m\u001b[0m \u001b[1m84s\u001b[0m 58ms/step - loss: 1.5552 - learning_rate: 0.0100\n",
      "Epoch 5/50\n",
      "\u001b[1m1453/1453\u001b[0m \u001b[32m━━━━━━━━━━━━━━━━━━━━\u001b[0m\u001b[37m\u001b[0m \u001b[1m84s\u001b[0m 58ms/step - loss: 1.5031 - learning_rate: 0.0100\n",
      "Epoch 6/50\n",
      "\u001b[1m1453/1453\u001b[0m \u001b[32m━━━━━━━━━━━━━━━━━━━━\u001b[0m\u001b[37m\u001b[0m \u001b[1m84s\u001b[0m 58ms/step - loss: 1.4702 - learning_rate: 0.0100\n",
      "Epoch 7/50\n",
      "\u001b[1m1453/1453\u001b[0m \u001b[32m━━━━━━━━━━━━━━━━━━━━\u001b[0m\u001b[37m\u001b[0m \u001b[1m84s\u001b[0m 58ms/step - loss: 1.4483 - learning_rate: 0.0100\n",
      "Epoch 8/50\n",
      "\u001b[1m1453/1453\u001b[0m \u001b[32m━━━━━━━━━━━━━━━━━━━━\u001b[0m\u001b[37m\u001b[0m \u001b[1m84s\u001b[0m 58ms/step - loss: 1.4268 - learning_rate: 0.0100\n",
      "Epoch 9/50\n",
      "\u001b[1m1453/1453\u001b[0m \u001b[32m━━━━━━━━━━━━━━━━━━━━\u001b[0m\u001b[37m\u001b[0m \u001b[1m84s\u001b[0m 58ms/step - loss: 1.4073 - learning_rate: 0.0100\n",
      "Epoch 10/50\n",
      "\u001b[1m1453/1453\u001b[0m \u001b[32m━━━━━━━━━━━━━━━━━━━━\u001b[0m\u001b[37m\u001b[0m \u001b[1m84s\u001b[0m 58ms/step - loss: 1.3903 - learning_rate: 0.0100\n",
      "Epoch 11/50\n",
      "\u001b[1m1453/1453\u001b[0m \u001b[32m━━━━━━━━━━━━━━━━━━━━\u001b[0m\u001b[37m\u001b[0m \u001b[1m84s\u001b[0m 58ms/step - loss: 1.3776 - learning_rate: 0.0100\n",
      "Epoch 12/50\n",
      "\u001b[1m1453/1453\u001b[0m \u001b[32m━━━━━━━━━━━━━━━━━━━━\u001b[0m\u001b[37m\u001b[0m \u001b[1m84s\u001b[0m 58ms/step - loss: 1.3704 - learning_rate: 0.0100\n",
      "Epoch 13/50\n",
      "\u001b[1m1453/1453\u001b[0m \u001b[32m━━━━━━━━━━━━━━━━━━━━\u001b[0m\u001b[37m\u001b[0m \u001b[1m84s\u001b[0m 58ms/step - loss: 1.3581 - learning_rate: 0.0100\n",
      "Epoch 14/50\n",
      "\u001b[1m1453/1453\u001b[0m \u001b[32m━━━━━━━━━━━━━━━━━━━━\u001b[0m\u001b[37m\u001b[0m \u001b[1m84s\u001b[0m 58ms/step - loss: 1.3433 - learning_rate: 0.0100\n",
      "Epoch 15/50\n",
      "\u001b[1m1453/1453\u001b[0m \u001b[32m━━━━━━━━━━━━━━━━━━━━\u001b[0m\u001b[37m\u001b[0m \u001b[1m84s\u001b[0m 58ms/step - loss: 1.3306 - learning_rate: 0.0100\n",
      "Epoch 16/50\n",
      "\u001b[1m1453/1453\u001b[0m \u001b[32m━━━━━━━━━━━━━━━━━━━━\u001b[0m\u001b[37m\u001b[0m \u001b[1m84s\u001b[0m 58ms/step - loss: 1.3248 - learning_rate: 0.0100\n",
      "Epoch 17/50\n",
      "\u001b[1m1453/1453\u001b[0m \u001b[32m━━━━━━━━━━━━━━━━━━━━\u001b[0m\u001b[37m\u001b[0m \u001b[1m84s\u001b[0m 58ms/step - loss: 1.3140 - learning_rate: 0.0100\n",
      "Epoch 18/50\n",
      "\u001b[1m1453/1453\u001b[0m \u001b[32m━━━━━━━━━━━━━━━━━━━━\u001b[0m\u001b[37m\u001b[0m \u001b[1m84s\u001b[0m 58ms/step - loss: 1.3064 - learning_rate: 0.0100\n",
      "Epoch 19/50\n",
      "\u001b[1m1453/1453\u001b[0m \u001b[32m━━━━━━━━━━━━━━━━━━━━\u001b[0m\u001b[37m\u001b[0m \u001b[1m84s\u001b[0m 58ms/step - loss: 1.2983 - learning_rate: 0.0100\n",
      "Epoch 20/50\n",
      "\u001b[1m1453/1453\u001b[0m \u001b[32m━━━━━━━━━━━━━━━━━━━━\u001b[0m\u001b[37m\u001b[0m \u001b[1m84s\u001b[0m 58ms/step - loss: 1.2870 - learning_rate: 0.0100\n",
      "Epoch 21/50\n",
      "\u001b[1m1453/1453\u001b[0m \u001b[32m━━━━━━━━━━━━━━━━━━━━\u001b[0m\u001b[37m\u001b[0m \u001b[1m84s\u001b[0m 58ms/step - loss: 1.2856 - learning_rate: 0.0100\n",
      "Epoch 22/50\n",
      "\u001b[1m1453/1453\u001b[0m \u001b[32m━━━━━━━━━━━━━━━━━━━━\u001b[0m\u001b[37m\u001b[0m \u001b[1m84s\u001b[0m 58ms/step - loss: 1.2771 - learning_rate: 0.0100\n",
      "Epoch 23/50\n",
      "\u001b[1m1453/1453\u001b[0m \u001b[32m━━━━━━━━━━━━━━━━━━━━\u001b[0m\u001b[37m\u001b[0m \u001b[1m84s\u001b[0m 58ms/step - loss: 1.2672 - learning_rate: 0.0100\n",
      "Epoch 24/50\n",
      "\u001b[1m1453/1453\u001b[0m \u001b[32m━━━━━━━━━━━━━━━━━━━━\u001b[0m\u001b[37m\u001b[0m \u001b[1m84s\u001b[0m 58ms/step - loss: 1.2814 - learning_rate: 0.0100\n",
      "Epoch 25/50\n",
      "\u001b[1m1453/1453\u001b[0m \u001b[32m━━━━━━━━━━━━━━━━━━━━\u001b[0m\u001b[37m\u001b[0m \u001b[1m84s\u001b[0m 58ms/step - loss: 1.2993 - learning_rate: 0.0100\n",
      "Epoch 26/50\n",
      "\u001b[1m1453/1453\u001b[0m \u001b[32m━━━━━━━━━━━━━━━━━━━━\u001b[0m\u001b[37m\u001b[0m \u001b[1m84s\u001b[0m 58ms/step - loss: 1.2802 - learning_rate: 0.0100\n",
      "Epoch 27/50\n",
      "\u001b[1m1453/1453\u001b[0m \u001b[32m━━━━━━━━━━━━━━━━━━━━\u001b[0m\u001b[37m\u001b[0m \u001b[1m84s\u001b[0m 58ms/step - loss: 1.2120 - learning_rate: 0.0020\n",
      "Epoch 28/50\n",
      "\u001b[1m1453/1453\u001b[0m \u001b[32m━━━━━━━━━━━━━━━━━━━━\u001b[0m\u001b[37m\u001b[0m \u001b[1m84s\u001b[0m 58ms/step - loss: 1.1703 - learning_rate: 0.0020\n",
      "Epoch 29/50\n",
      "\u001b[1m1453/1453\u001b[0m \u001b[32m━━━━━━━━━━━━━━━━━━━━\u001b[0m\u001b[37m\u001b[0m \u001b[1m84s\u001b[0m 58ms/step - loss: 1.1537 - learning_rate: 0.0020\n",
      "Epoch 30/50\n",
      "\u001b[1m1453/1453\u001b[0m \u001b[32m━━━━━━━━━━━━━━━━━━━━\u001b[0m\u001b[37m\u001b[0m \u001b[1m84s\u001b[0m 58ms/step - loss: 1.1424 - learning_rate: 0.0020\n",
      "Epoch 31/50\n",
      "\u001b[1m1453/1453\u001b[0m \u001b[32m━━━━━━━━━━━━━━━━━━━━\u001b[0m\u001b[37m\u001b[0m \u001b[1m84s\u001b[0m 58ms/step - loss: 1.1293 - learning_rate: 0.0020\n",
      "Epoch 33/50\n",
      "\u001b[1m1453/1453\u001b[0m \u001b[32m━━━━━━━━━━━━━━━━━━━━\u001b[0m\u001b[37m\u001b[0m \u001b[1m84s\u001b[0m 58ms/step - loss: 1.1236 - learning_rate: 0.0020\n",
      "Epoch 34/50\n",
      "\u001b[1m1453/1453\u001b[0m \u001b[32m━━━━━━━━━━━━━━━━━━━━\u001b[0m\u001b[37m\u001b[0m \u001b[1m84s\u001b[0m 58ms/step - loss: 1.1132 - learning_rate: 0.0020\n",
      "Epoch 35/50\n",
      "\u001b[1m1453/1453\u001b[0m \u001b[32m━━━━━━━━━━━━━━━━━━━━\u001b[0m\u001b[37m\u001b[0m \u001b[1m84s\u001b[0m 58ms/step - loss: 1.1009 - learning_rate: 0.0020\n",
      "Epoch 36/50\n",
      "\u001b[1m1453/1453\u001b[0m \u001b[32m━━━━━━━━━━━━━━━━━━━━\u001b[0m\u001b[37m\u001b[0m \u001b[1m84s\u001b[0m 58ms/step - loss: 1.0998 - learning_rate: 0.0020\n",
      "Epoch 37/50\n",
      "\u001b[1m1453/1453\u001b[0m \u001b[32m━━━━━━━━━━━━━━━━━━━━\u001b[0m\u001b[37m\u001b[0m \u001b[1m84s\u001b[0m 58ms/step - loss: 1.0945 - learning_rate: 0.0020\n",
      "Epoch 38/50\n",
      "\u001b[1m1453/1453\u001b[0m \u001b[32m━━━━━━━━━━━━━━━━━━━━\u001b[0m\u001b[37m\u001b[0m \u001b[1m84s\u001b[0m 58ms/step - loss: 1.0965 - learning_rate: 0.0020\n",
      "Epoch 39/50\n",
      "\u001b[1m1453/1453\u001b[0m \u001b[32m━━━━━━━━━━━━━━━━━━━━\u001b[0m\u001b[37m\u001b[0m \u001b[1m84s\u001b[0m 58ms/step - loss: 1.0919 - learning_rate: 0.0020\n",
      "Epoch 40/50\n",
      "\u001b[1m1453/1453\u001b[0m \u001b[32m━━━━━━━━━━━━━━━━━━━━\u001b[0m\u001b[37m\u001b[0m \u001b[1m84s\u001b[0m 58ms/step - loss: 1.0819 - learning_rate: 0.0020\n",
      "Epoch 41/50\n",
      "\u001b[1m1453/1453\u001b[0m \u001b[32m━━━━━━━━━━━━━━━━━━━━\u001b[0m\u001b[37m\u001b[0m \u001b[1m84s\u001b[0m 58ms/step - loss: 1.0730 - learning_rate: 0.0020\n",
      "Epoch 42/50\n",
      "\u001b[1m1453/1453\u001b[0m \u001b[32m━━━━━━━━━━━━━━━━━━━━\u001b[0m\u001b[37m\u001b[0m \u001b[1m84s\u001b[0m 58ms/step - loss: 1.0656 - learning_rate: 0.0020\n",
      "Epoch 43/50\n",
      "\u001b[1m1453/1453\u001b[0m \u001b[32m━━━━━━━━━━━━━━━━━━━━\u001b[0m\u001b[37m\u001b[0m \u001b[1m84s\u001b[0m 58ms/step - loss: 1.0563 - learning_rate: 0.0020\n",
      "Epoch 44/50\n",
      "\u001b[1m1453/1453\u001b[0m \u001b[32m━━━━━━━━━━━━━━━━━━━━\u001b[0m\u001b[37m\u001b[0m \u001b[1m84s\u001b[0m 58ms/step - loss: 1.0554 - learning_rate: 0.0020\n",
      "Epoch 45/50\n",
      "\u001b[1m1453/1453\u001b[0m \u001b[32m━━━━━━━━━━━━━━━━━━━━\u001b[0m\u001b[37m\u001b[0m \u001b[1m84s\u001b[0m 58ms/step - loss: 1.0447 - learning_rate: 0.0020\n",
      "Epoch 46/50\n",
      "\u001b[1m1453/1453\u001b[0m \u001b[32m━━━━━━━━━━━━━━━━━━━━\u001b[0m\u001b[37m\u001b[0m \u001b[1m84s\u001b[0m 58ms/step - loss: 1.0391 - learning_rate: 0.0020\n",
      "Epoch 47/50\n",
      "\u001b[1m1453/1453\u001b[0m \u001b[32m━━━━━━━━━━━━━━━━━━━━\u001b[0m\u001b[37m\u001b[0m \u001b[1m84s\u001b[0m 58ms/step - loss: 1.0243 - learning_rate: 0.0020\n",
      "Epoch 48/50\n",
      "\u001b[1m1453/1453\u001b[0m \u001b[32m━━━━━━━━━━━━━━━━━━━━\u001b[0m\u001b[37m\u001b[0m \u001b[1m84s\u001b[0m 58ms/step - loss: 1.0215 - learning_rate: 0.0020\n",
      "Epoch 49/50\n",
      "\u001b[1m1453/1453\u001b[0m \u001b[32m━━━━━━━━━━━━━━━━━━━━\u001b[0m\u001b[37m\u001b[0m \u001b[1m84s\u001b[0m 58ms/step - loss: 1.0199 - learning_rate: 0.0020\n",
      "Epoch 50/50\n",
      "\u001b[1m1453/1453\u001b[0m \u001b[32m━━━━━━━━━━━━━━━━━━━━\u001b[0m\u001b[37m\u001b[0m \u001b[1m84s\u001b[0m 58ms/step - loss: 1.0076 - learning_rate: 0.0020\n"
     ]
    }
   ],
   "source": [
    "model = Sequential()\n",
    "model.add(Bidirectional(LSTM(256, return_sequences=True), input_shape=(sequence_length, len(characters))))\n",
    "model.add(Dropout(0.2))\n",
    "model.add(Bidirectional(LSTM(256)))\n",
    "model.add(Dropout(0.2))\n",
    "model.add(Dense(len(characters)))\n",
    "model.add(Activation('softmax'))\n",
    "\n",
    "optimizer = RMSprop(learning_rate=0.01)\n",
    "model.compile(loss='categorical_crossentropy', optimizer=optimizer)\n",
    "\n",
    "reduce_lr = ReduceLROnPlateau(monitor='loss', factor=0.2, patience=3, min_lr=0.001)\n",
    "model.fit(x, y, batch_size=256, epochs=50, callbacks=[reduce_lr])\n",
    "model.save('shakespeare_generation_v2.keras')"
   ]
  },
  {
   "cell_type": "code",
   "execution_count": null,
   "metadata": {},
   "outputs": [],
   "source": []
  },
  {
   "cell_type": "code",
   "execution_count": null,
   "metadata": {},
   "outputs": [],
   "source": []
  }
 ],
 "metadata": {
  "kaggle": {
   "accelerator": "nvidiaTeslaT4",
   "dataSources": [],
   "dockerImageVersionId": 30787,
   "isGpuEnabled": true,
   "isInternetEnabled": true,
   "language": "python",
   "sourceType": "notebook"
  },
  "kernelspec": {
   "display_name": "Python 3 (ipykernel)",
   "language": "python",
   "name": "python3"
  },
  "language_info": {
   "codemirror_mode": {
    "name": "ipython",
    "version": 3
   },
   "file_extension": ".py",
   "mimetype": "text/x-python",
   "name": "python",
   "nbconvert_exporter": "python",
   "pygments_lexer": "ipython3",
   "version": "3.11.9"
  }
 },
 "nbformat": 4,
 "nbformat_minor": 4
}
